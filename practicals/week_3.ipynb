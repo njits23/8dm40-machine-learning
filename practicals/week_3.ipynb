{
 "cells": [
  {
   "cell_type": "markdown",
   "metadata": {},
   "source": [
    "# Preliminaries\n",
    "\n",
    "The `pandas` library allows the user several data structures for different data manipulation tasks:\n",
    "1. Data storage through its `Series` and `DataFrame` data structures.\n",
    "2. Data filtering using multiple methods from the package.\n",
    "3. Reading data from many different file formats such as `csv`, `txt`, `xlsx`, ...\n",
    "\n",
    "Below we provide a brief overview of the `pandas` functionalities needed for these exercises. The complete documentation can be found on the [`pandas` website](https://pandas.pydata.org/).\n",
    "\n",
    "## Pandas data structures\n",
    "\n",
    "### Series\n",
    "The Pandas Series data structure is similar to a one-dimensional array. It can store any type of data. The values are mutable but the size not.\n",
    "\n",
    "To create `Series`, we call the `pd.Series()` method and pass an array. A `Series` may also be created from a numpy array."
   ]
  },
  {
   "cell_type": "code",
   "execution_count": 1,
   "metadata": {},
   "outputs": [
    {
     "name": "stdout",
     "output_type": "stream",
     "text": [
      "0       1\n",
      "1      10\n",
      "2     100\n",
      "3    1000\n",
      "dtype: int64\n",
      "\n",
      "\n",
      "0          PSV\n",
      "1         Ajax\n",
      "2    Feyenoord\n",
      "3       Twente\n",
      "dtype: object\n"
     ]
    }
   ],
   "source": [
    "import pandas as pd\n",
    "import numpy as np\n",
    "\n",
    "first_series = pd.Series([1,10,100,1000])\n",
    "\n",
    "print(first_series)\n",
    "\n",
    "teams = np.array(['PSV','Ajax','Feyenoord','Twente'])\n",
    "second_series = pd.Series(teams)\n",
    "\n",
    "print('\\n')\n",
    "print(second_series)"
   ]
  },
  {
   "cell_type": "markdown",
   "metadata": {},
   "source": [
    "### DataFrame\n",
    "One can think of a `DataFrame` as a table with rows and columns (2D structure). The columns can be of a different type (as opposed to `numpy` arrays) and the size of the `DataFrame` is mutable.\n",
    "\n",
    "To create `DataFrame`, we call the `pd.DataFrame()` method and we can create it from scratch or we can convert a numpy array or a list into a `DataFrame`."
   ]
  },
  {
   "cell_type": "code",
   "execution_count": 2,
   "metadata": {},
   "outputs": [
    {
     "name": "stdout",
     "output_type": "stream",
     "text": [
      "From scratch: \n",
      "    Position       Team  GF  GA  Points\n",
      "0         1        PSV  80  30      79\n",
      "1         2       Ajax  75  25      78\n",
      "2         3  Feyenoord  75  40      70\n",
      "3         4     Twente  70  60      66 \n",
      "\n",
      "From list: \n",
      "   Position       Team  GF  GA Points\n",
      "0        1        PSV  80  30     79\n",
      "1        2       Ajax  75  25     78\n",
      "2        3  Feyenoord  75  40     70\n",
      "3        4     Twente  70  60     66 \n",
      "\n",
      "From numpy array: \n",
      "   Position       Team  GF  GA Points\n",
      "0        1        PSV  80  30     79\n",
      "1        2       Ajax  75  25     78\n",
      "2        3  Feyenoord  75  40     70\n",
      "3        4     Twente  70  60     66 \n",
      "\n"
     ]
    }
   ],
   "source": [
    "# DataFrame from scratch\n",
    "first_dataframe = pd.DataFrame({\n",
    "    \"Position\": [1, 2, 3, 4],\n",
    "    \"Team\": ['PSV','Ajax','Feyenoord','Twente'],\n",
    "    \"GF\": [80, 75, 75, 70],\n",
    "    \"GA\": [30, 25, 40, 60],\n",
    "    \"Points\": [79, 78, 70, 66]\n",
    "})\n",
    "\n",
    "print(\"From scratch: \\n {} \\n\".format(first_dataframe))\n",
    "\n",
    "# DataFrme from a list\n",
    "data = [[1, 2, 3, 4], ['PSV','Ajax','Feyenoord','Twente'], \n",
    "        [80, 75, 75, 70], [30, 25, 40, 60], [79, 78, 70, 66]]\n",
    "columns = [\"Position\", \"Team\", \"GF\", \"GA\", \"Points\"]\n",
    "\n",
    "second_dataframe = pd.DataFrame(data, index=columns)\n",
    "\n",
    "print(\"From list: \\n {} \\n\".format(second_dataframe.T)) # the '.T' operator is explained later on\n",
    "\n",
    "# DataFrame from numpy array\n",
    "data = np.array([[1, 2, 3, 4], ['PSV','Ajax','Feyenoord','Twente'], \n",
    "                 [80, 75, 75, 70], [30, 25, 40, 60], [79, 78, 70, 66]])\n",
    "columns = [\"Position\", \"Team\", \"GF\", \"GA\", \"Points\"]\n",
    "\n",
    "third_dataframe = pd.DataFrame(data.T, columns=columns)\n",
    "\n",
    "print(\"From numpy array: \\n {} \\n\".format(third_dataframe))"
   ]
  },
  {
   "cell_type": "markdown",
   "metadata": {},
   "source": [
    "### DataFrame attributes\n",
    "This section gives a quick overview of some of the `pandas.DataFrame` attributes such as `T`, `index`, `columns`, `iloc`, `loc`, `shape` and `values`."
   ]
  },
  {
   "cell_type": "code",
   "execution_count": 3,
   "metadata": {},
   "outputs": [
    {
     "name": "stdout",
     "output_type": "stream",
     "text": [
      "            0     1          2       3\n",
      "Position    1     2          3       4\n",
      "Team      PSV  Ajax  Feyenoord  Twente\n",
      "GF         80    75         75      70\n",
      "GA         30    25         40      60\n",
      "Points     79    78         70      66\n"
     ]
    }
   ],
   "source": [
    "# transpose the index and columns\n",
    "print(third_dataframe.T)"
   ]
  },
  {
   "cell_type": "code",
   "execution_count": 4,
   "metadata": {},
   "outputs": [
    {
     "name": "stdout",
     "output_type": "stream",
     "text": [
      "RangeIndex(start=0, stop=4, step=1)\n"
     ]
    }
   ],
   "source": [
    "# index makes reference to the row labels\n",
    "print(third_dataframe.index)"
   ]
  },
  {
   "cell_type": "code",
   "execution_count": 5,
   "metadata": {},
   "outputs": [
    {
     "name": "stdout",
     "output_type": "stream",
     "text": [
      "Index(['Position', 'Team', 'GF', 'GA', 'Points'], dtype='object')\n"
     ]
    }
   ],
   "source": [
    "# columns makes reference to the column labels\n",
    "print(third_dataframe.columns)"
   ]
  },
  {
   "cell_type": "code",
   "execution_count": 6,
   "metadata": {},
   "outputs": [
    {
     "name": "stdout",
     "output_type": "stream",
     "text": [
      "0          PSV\n",
      "1         Ajax\n",
      "2    Feyenoord\n",
      "3       Twente\n",
      "Name: Team, dtype: object\n"
     ]
    }
   ],
   "source": [
    "# iloc allows to access the index by integer-location (e.g. all team names, which are in the second columm)\n",
    "print(third_dataframe.iloc[:,1])"
   ]
  },
  {
   "cell_type": "code",
   "execution_count": 7,
   "metadata": {},
   "outputs": [
    {
     "name": "stdout",
     "output_type": "stream",
     "text": [
      "PSV\n"
     ]
    }
   ],
   "source": [
    "# loc allows to access the index by label(s)-location (e.g. all team names, which are in the \"Team\" columm)\n",
    "print(third_dataframe.loc[0, 'Team'])"
   ]
  },
  {
   "cell_type": "code",
   "execution_count": 8,
   "metadata": {},
   "outputs": [
    {
     "name": "stdout",
     "output_type": "stream",
     "text": [
      "(4, 5)\n"
     ]
    }
   ],
   "source": [
    "# shape returns a tuple with the DataFrame dimension, similar to numpy\n",
    "print(third_dataframe.shape)"
   ]
  },
  {
   "cell_type": "code",
   "execution_count": 9,
   "metadata": {},
   "outputs": [
    {
     "name": "stdout",
     "output_type": "stream",
     "text": [
      "[['1' 'PSV' '80' '30' '79']\n",
      " ['2' 'Ajax' '75' '25' '78']\n",
      " ['3' 'Feyenoord' '75' '40' '70']\n",
      " ['4' 'Twente' '70' '60' '66']]\n"
     ]
    }
   ],
   "source": [
    "# values return a Numpy representation of the DataFrame data\n",
    "print(third_dataframe.values)"
   ]
  },
  {
   "cell_type": "markdown",
   "metadata": {},
   "source": [
    "### DataFrame methods\n",
    "This section gives a quick overview of some of the `pandas.DataFrame` methods such as `head`, `describe`, `concat`, `groupby`,`rename`, `filter`, `drop` and `isna`. To import data from CSV or MS Excel files, we can make use of `read_csv` and `read_excel`, respectively."
   ]
  },
  {
   "cell_type": "code",
   "execution_count": 10,
   "metadata": {},
   "outputs": [
    {
     "name": "stdout",
     "output_type": "stream",
     "text": [
      "  Position       Team  GF  GA Points\n",
      "0        1        PSV  80  30     79\n",
      "1        2       Ajax  75  25     78\n",
      "2        3  Feyenoord  75  40     70\n",
      "3        4     Twente  70  60     66\n"
     ]
    }
   ],
   "source": [
    "# print the first few rows in your dataset with head()\n",
    "print(third_dataframe.head()) # In this case, it is not very useful because we don't have thousands of rows"
   ]
  },
  {
   "cell_type": "code",
   "execution_count": 11,
   "metadata": {},
   "outputs": [
    {
     "name": "stdout",
     "output_type": "stream",
     "text": [
      "       Position    Team  GF  GA Points\n",
      "count         4       4   4   4      4\n",
      "unique        4       4   3   4      4\n",
      "top           4  Twente  75  30     78\n",
      "freq          1       1   2   1      1\n"
     ]
    }
   ],
   "source": [
    "# get the summary statistics of the DataFrame with describe()\n",
    "print(third_dataframe.describe())"
   ]
  },
  {
   "cell_type": "code",
   "execution_count": 12,
   "metadata": {},
   "outputs": [
    {
     "name": "stdout",
     "output_type": "stream",
     "text": [
      "  Position  Team  GF  GA Points\n",
      "0        1   PSV  80  30     79\n",
      "1        2  Ajax  75  25     78\n",
      "\n",
      "\n",
      "  Position       Team  GF  GA Points\n",
      "2        3  Feyenoord  75  40     70\n",
      "3        4     Twente  70  60     66\n",
      "\n",
      "\n",
      "  Position       Team  GF  GA Points\n",
      "0        1        PSV  80  30     79\n",
      "1        2       Ajax  75  25     78\n",
      "2        3  Feyenoord  75  40     70\n",
      "3        4     Twente  70  60     66\n"
     ]
    }
   ],
   "source": [
    "# concatenate (join) DataFrame objects using concat()\n",
    "\n",
    "# first, we will split the above DataFrame in two different ones\n",
    "df_a = third_dataframe.loc[[0,1],:]\n",
    "df_b = third_dataframe.loc[[2,3],:]\n",
    "\n",
    "print(df_a)\n",
    "print('\\n')\n",
    "\n",
    "print(df_b)\n",
    "print('\\n')\n",
    "\n",
    "# now, we concatenate both datasets\n",
    "df = pd.concat([df_a, df_b])\n",
    "\n",
    "print(df)"
   ]
  },
  {
   "cell_type": "code",
   "execution_count": 13,
   "metadata": {},
   "outputs": [
    {
     "name": "stdout",
     "output_type": "stream",
     "text": [
      "  Position       Team  GF  GA Points\n",
      "1        2       Ajax  75  25     78\n",
      "2        3  Feyenoord  75  40     70\n"
     ]
    }
   ],
   "source": [
    "# group the data by certain variable via groupby()\n",
    "# here, we have grouped the data by goals for, which in this case is 75\n",
    "\n",
    "group = df.groupby('GF')\n",
    "\n",
    "print(group.get_group('75'))"
   ]
  },
  {
   "cell_type": "code",
   "execution_count": 14,
   "metadata": {},
   "outputs": [
    {
     "name": "stdout",
     "output_type": "stream",
     "text": [
      "  Pos       Club  GF  GA Points\n",
      "0   1        PSV  80  30     79\n",
      "1   2       Ajax  75  25     78\n",
      "2   3  Feyenoord  75  40     70\n",
      "3   4     Twente  70  60     66\n"
     ]
    }
   ],
   "source": [
    "# rename() helps you change the column or index names\n",
    "print(df.rename(columns={'Position':'Pos','Team':'Club'}))"
   ]
  },
  {
   "cell_type": "code",
   "execution_count": 15,
   "metadata": {},
   "outputs": [
    {
     "name": "stdout",
     "output_type": "stream",
     "text": [
      "        Team Points\n",
      "0        PSV     79\n",
      "1       Ajax     78\n",
      "2  Feyenoord     70\n",
      "3     Twente     66\n"
     ]
    }
   ],
   "source": [
    "# build a subset of rows or columns of your dataset according to labels via filter()\n",
    "# here, items refer to the variable names: 'Team' and 'Points'; to select columns, we specify axis=1\n",
    "print(df.filter(items=['Team', 'Points'], axis=1))"
   ]
  },
  {
   "cell_type": "code",
   "execution_count": 16,
   "metadata": {},
   "outputs": [
    {
     "name": "stdout",
     "output_type": "stream",
     "text": [
      "  Position       Team Points\n",
      "0        1        PSV     79\n",
      "1        2       Ajax     78\n",
      "2        3  Feyenoord     70\n",
      "3        4     Twente     66\n"
     ]
    }
   ],
   "source": [
    "# dropping some labels\n",
    "print(df.drop(columns=['GF', 'GA']))"
   ]
  },
  {
   "cell_type": "code",
   "execution_count": 17,
   "metadata": {},
   "outputs": [
    {
     "name": "stdout",
     "output_type": "stream",
     "text": [
      "   Position   Team     GF     GA  Points\n",
      "0     False  False  False  False   False\n",
      "1     False  False  False  False   False\n",
      "2     False  False  False  False   False\n",
      "3     False  False  False  False   False\n",
      "\n",
      "\n",
      "  Position       Team  GF  GA Points     W\n",
      "0        1        PSV  80  30     79   NaN\n",
      "1        2       Ajax  75  25     78  25.0\n",
      "2        3  Feyenoord  75  40     70  24.0\n",
      "3        4     Twente  70  60     66  19.0\n",
      "\n",
      "\n",
      "   Position   Team     GF     GA  Points      W\n",
      "0     False  False  False  False   False   True\n",
      "1     False  False  False  False   False  False\n",
      "2     False  False  False  False   False  False\n",
      "3     False  False  False  False   False  False\n"
     ]
    }
   ],
   "source": [
    "# search for NA (not available) entries in the DataFrame\n",
    "print(df.isna()) # No NA values\n",
    "print('\\n')\n",
    "\n",
    "# create a pandas Series with a NA value\n",
    "# the Series as W (winnin matches)\n",
    "tmp = pd.Series([np.NaN, 25, 24, 19],  name=\"W\")\n",
    "\n",
    "# concatenate the Series with the DataFrame\n",
    "df = pd.concat([df,tmp], axis = 1)\n",
    "print(df)\n",
    "print('\\n')\n",
    "\n",
    "# again, check for NA entries\n",
    "print(df.isna())"
   ]
  },
  {
   "cell_type": "markdown",
   "metadata": {},
   "source": [
    "## Dataset\n",
    "\n",
    "For this week exercises we will use a dataset from the Genomics of Drug Sensitivity in Cancer (GDSC) project (https://www.cancerrxgene.org/). In this study (['Iorio et al., Cell, 2016']()), 265 compounds were tested on 1001 cancer cell lines for which different types of -omics data (RNA expression, DNA methylation, Copy Number Alteration, DNA sequencing) are available. This is a valuable resource to look for biomarkers of drugs sensitivity in order to try to understand why cancer patients responds very differently to cancer drugs and find ways to assign the optimal treatment to each patient.\n",
    "\n",
    "For this exercise we will use a subset of the data, focusing the response to the drug YM155 (Sepantronium bromide) on four cancer types, for a total of 148 cancer cell lines.\n",
    "\n",
    "| ID          | Cancer type                      |\n",
    "|-------------|----------------------------------|\n",
    "|   COAD/READ | Colorectal adenocarcinoma        |\n",
    "|   NB        | Neuroblastoma                    |\n",
    "|   KIRC      | Kidney renal clear cell carcinoma|\n",
    "|   BRCA      | Breast carcinoma                 |\n",
    "\n",
    "We will use the RNA expression data (RMA normalised). Only genes with high variability across cell lines (variance > 5, resulting in 238 genes) have been kept.\n",
    "\n",
    "Drugs have been tested at different concentration, measuring each time the viability of the cells. Drug sensitivity is measured using the natural log of the fitted IC50 metric, which is defined as the half maximal inhibitory concentration. A lower IC50 corresponds to a more sensitive cell line because a lower amount of drug is sufficient to have a strong response, while a higher IC50 corresponds to a more resistant cell line because more drug is needed for killing the cells.\n",
    "\n",
    "Based on the IC50 metric, cells can be classified as sensitive or resistant. The classification is done by computing the $z$-score across all cell lines in the GDSC for each drug, and considering as sensitive the ones with $z$-score < 0 and resistant the ones with $z$-score > 0.\n",
    "\n",
    "The dataset is originally provided as 3 files ([original source](https://www.sciencedirect.com/science/article/pii/S0092867416307462?via%3Dihub)) :\n",
    "\n",
    "`GDSC_RNA_expression.csv`: gene expression matrix with the cell lines in the rows (148) and the genes in the columns (238).\n",
    "\n",
    "`GDSC_drug_response.csv`: vector with the cell lines response to the drug YM155 in terms of log(IC50) and as classification in sensitive or resistant.\n",
    "\n",
    "`GDSC_metadata.csv`: metadata for the 148 cell lines including name, COSMIC ID and tumor type (using the classification from ['The Cancer Genome Atlas TCGA'](https://www.cancer.gov/about-nci/organization/ccg/research/structural-genomics/tcga))\n",
    "\n",
    "For convenience, we provide the data already curated.\n",
    "\n",
    "`RNA_expression_curated.csv`: [148 cell lines , 238 genes]\n",
    "\n",
    "`drug_response_curated.csv`: [148 cell lines , YM155 drug]\n",
    "\n",
    "The curated data cam be read as `pandas` `DataFrame`s in the following way:"
   ]
  },
  {
   "cell_type": "code",
   "execution_count": 1,
   "metadata": {},
   "outputs": [
    {
     "ename": "FileNotFoundError",
     "evalue": "[Errno 2] File b'./data/RNA_expression_curated.csv' does not exist: b'./data/RNA_expression_curated.csv'",
     "output_type": "error",
     "traceback": [
      "\u001b[1;31m---------------------------------------------------------------------------\u001b[0m",
      "\u001b[1;31mFileNotFoundError\u001b[0m                         Traceback (most recent call last)",
      "\u001b[1;32m<ipython-input-1-936b4608bec5>\u001b[0m in \u001b[0;36m<module>\u001b[1;34m\u001b[0m\n\u001b[0;32m      1\u001b[0m \u001b[1;32mimport\u001b[0m \u001b[0mpandas\u001b[0m \u001b[1;32mas\u001b[0m \u001b[0mpd\u001b[0m\u001b[1;33m\u001b[0m\u001b[1;33m\u001b[0m\u001b[0m\n\u001b[0;32m      2\u001b[0m \u001b[1;33m\u001b[0m\u001b[0m\n\u001b[1;32m----> 3\u001b[1;33m \u001b[0mgene_expression\u001b[0m \u001b[1;33m=\u001b[0m \u001b[0mpd\u001b[0m\u001b[1;33m.\u001b[0m\u001b[0mread_csv\u001b[0m\u001b[1;33m(\u001b[0m\u001b[1;34m\"./data/RNA_expression_curated.csv\"\u001b[0m\u001b[1;33m,\u001b[0m \u001b[0msep\u001b[0m\u001b[1;33m=\u001b[0m\u001b[1;34m','\u001b[0m\u001b[1;33m,\u001b[0m \u001b[0mheader\u001b[0m\u001b[1;33m=\u001b[0m\u001b[1;36m0\u001b[0m\u001b[1;33m,\u001b[0m \u001b[0mindex_col\u001b[0m\u001b[1;33m=\u001b[0m\u001b[1;36m0\u001b[0m\u001b[1;33m)\u001b[0m\u001b[1;33m\u001b[0m\u001b[1;33m\u001b[0m\u001b[0m\n\u001b[0m\u001b[0;32m      4\u001b[0m \u001b[0mdrug_response\u001b[0m \u001b[1;33m=\u001b[0m \u001b[0mpd\u001b[0m\u001b[1;33m.\u001b[0m\u001b[0mread_csv\u001b[0m\u001b[1;33m(\u001b[0m\u001b[1;34m\"./data/drug_response_curated.csv\"\u001b[0m\u001b[1;33m,\u001b[0m \u001b[0msep\u001b[0m\u001b[1;33m=\u001b[0m\u001b[1;34m','\u001b[0m\u001b[1;33m,\u001b[0m \u001b[0mheader\u001b[0m\u001b[1;33m=\u001b[0m\u001b[1;36m0\u001b[0m\u001b[1;33m,\u001b[0m \u001b[0mindex_col\u001b[0m\u001b[1;33m=\u001b[0m\u001b[1;36m0\u001b[0m\u001b[1;33m)\u001b[0m\u001b[1;33m\u001b[0m\u001b[1;33m\u001b[0m\u001b[0m\n",
      "\u001b[1;32m~\\.conda\\envs\\py3.6.7\\lib\\site-packages\\pandas\\io\\parsers.py\u001b[0m in \u001b[0;36mparser_f\u001b[1;34m(filepath_or_buffer, sep, delimiter, header, names, index_col, usecols, squeeze, prefix, mangle_dupe_cols, dtype, engine, converters, true_values, false_values, skipinitialspace, skiprows, skipfooter, nrows, na_values, keep_default_na, na_filter, verbose, skip_blank_lines, parse_dates, infer_datetime_format, keep_date_col, date_parser, dayfirst, iterator, chunksize, compression, thousands, decimal, lineterminator, quotechar, quoting, doublequote, escapechar, comment, encoding, dialect, tupleize_cols, error_bad_lines, warn_bad_lines, delim_whitespace, low_memory, memory_map, float_precision)\u001b[0m\n\u001b[0;32m    700\u001b[0m                     skip_blank_lines=skip_blank_lines)\n\u001b[0;32m    701\u001b[0m \u001b[1;33m\u001b[0m\u001b[0m\n\u001b[1;32m--> 702\u001b[1;33m         \u001b[1;32mreturn\u001b[0m \u001b[0m_read\u001b[0m\u001b[1;33m(\u001b[0m\u001b[0mfilepath_or_buffer\u001b[0m\u001b[1;33m,\u001b[0m \u001b[0mkwds\u001b[0m\u001b[1;33m)\u001b[0m\u001b[1;33m\u001b[0m\u001b[1;33m\u001b[0m\u001b[0m\n\u001b[0m\u001b[0;32m    703\u001b[0m \u001b[1;33m\u001b[0m\u001b[0m\n\u001b[0;32m    704\u001b[0m     \u001b[0mparser_f\u001b[0m\u001b[1;33m.\u001b[0m\u001b[0m__name__\u001b[0m \u001b[1;33m=\u001b[0m \u001b[0mname\u001b[0m\u001b[1;33m\u001b[0m\u001b[1;33m\u001b[0m\u001b[0m\n",
      "\u001b[1;32m~\\.conda\\envs\\py3.6.7\\lib\\site-packages\\pandas\\io\\parsers.py\u001b[0m in \u001b[0;36m_read\u001b[1;34m(filepath_or_buffer, kwds)\u001b[0m\n\u001b[0;32m    427\u001b[0m \u001b[1;33m\u001b[0m\u001b[0m\n\u001b[0;32m    428\u001b[0m     \u001b[1;31m# Create the parser.\u001b[0m\u001b[1;33m\u001b[0m\u001b[1;33m\u001b[0m\u001b[1;33m\u001b[0m\u001b[0m\n\u001b[1;32m--> 429\u001b[1;33m     \u001b[0mparser\u001b[0m \u001b[1;33m=\u001b[0m \u001b[0mTextFileReader\u001b[0m\u001b[1;33m(\u001b[0m\u001b[0mfilepath_or_buffer\u001b[0m\u001b[1;33m,\u001b[0m \u001b[1;33m**\u001b[0m\u001b[0mkwds\u001b[0m\u001b[1;33m)\u001b[0m\u001b[1;33m\u001b[0m\u001b[1;33m\u001b[0m\u001b[0m\n\u001b[0m\u001b[0;32m    430\u001b[0m \u001b[1;33m\u001b[0m\u001b[0m\n\u001b[0;32m    431\u001b[0m     \u001b[1;32mif\u001b[0m \u001b[0mchunksize\u001b[0m \u001b[1;32mor\u001b[0m \u001b[0miterator\u001b[0m\u001b[1;33m:\u001b[0m\u001b[1;33m\u001b[0m\u001b[1;33m\u001b[0m\u001b[0m\n",
      "\u001b[1;32m~\\.conda\\envs\\py3.6.7\\lib\\site-packages\\pandas\\io\\parsers.py\u001b[0m in \u001b[0;36m__init__\u001b[1;34m(self, f, engine, **kwds)\u001b[0m\n\u001b[0;32m    893\u001b[0m             \u001b[0mself\u001b[0m\u001b[1;33m.\u001b[0m\u001b[0moptions\u001b[0m\u001b[1;33m[\u001b[0m\u001b[1;34m'has_index_names'\u001b[0m\u001b[1;33m]\u001b[0m \u001b[1;33m=\u001b[0m \u001b[0mkwds\u001b[0m\u001b[1;33m[\u001b[0m\u001b[1;34m'has_index_names'\u001b[0m\u001b[1;33m]\u001b[0m\u001b[1;33m\u001b[0m\u001b[1;33m\u001b[0m\u001b[0m\n\u001b[0;32m    894\u001b[0m \u001b[1;33m\u001b[0m\u001b[0m\n\u001b[1;32m--> 895\u001b[1;33m         \u001b[0mself\u001b[0m\u001b[1;33m.\u001b[0m\u001b[0m_make_engine\u001b[0m\u001b[1;33m(\u001b[0m\u001b[0mself\u001b[0m\u001b[1;33m.\u001b[0m\u001b[0mengine\u001b[0m\u001b[1;33m)\u001b[0m\u001b[1;33m\u001b[0m\u001b[1;33m\u001b[0m\u001b[0m\n\u001b[0m\u001b[0;32m    896\u001b[0m \u001b[1;33m\u001b[0m\u001b[0m\n\u001b[0;32m    897\u001b[0m     \u001b[1;32mdef\u001b[0m \u001b[0mclose\u001b[0m\u001b[1;33m(\u001b[0m\u001b[0mself\u001b[0m\u001b[1;33m)\u001b[0m\u001b[1;33m:\u001b[0m\u001b[1;33m\u001b[0m\u001b[1;33m\u001b[0m\u001b[0m\n",
      "\u001b[1;32m~\\.conda\\envs\\py3.6.7\\lib\\site-packages\\pandas\\io\\parsers.py\u001b[0m in \u001b[0;36m_make_engine\u001b[1;34m(self, engine)\u001b[0m\n\u001b[0;32m   1120\u001b[0m     \u001b[1;32mdef\u001b[0m \u001b[0m_make_engine\u001b[0m\u001b[1;33m(\u001b[0m\u001b[0mself\u001b[0m\u001b[1;33m,\u001b[0m \u001b[0mengine\u001b[0m\u001b[1;33m=\u001b[0m\u001b[1;34m'c'\u001b[0m\u001b[1;33m)\u001b[0m\u001b[1;33m:\u001b[0m\u001b[1;33m\u001b[0m\u001b[1;33m\u001b[0m\u001b[0m\n\u001b[0;32m   1121\u001b[0m         \u001b[1;32mif\u001b[0m \u001b[0mengine\u001b[0m \u001b[1;33m==\u001b[0m \u001b[1;34m'c'\u001b[0m\u001b[1;33m:\u001b[0m\u001b[1;33m\u001b[0m\u001b[1;33m\u001b[0m\u001b[0m\n\u001b[1;32m-> 1122\u001b[1;33m             \u001b[0mself\u001b[0m\u001b[1;33m.\u001b[0m\u001b[0m_engine\u001b[0m \u001b[1;33m=\u001b[0m \u001b[0mCParserWrapper\u001b[0m\u001b[1;33m(\u001b[0m\u001b[0mself\u001b[0m\u001b[1;33m.\u001b[0m\u001b[0mf\u001b[0m\u001b[1;33m,\u001b[0m \u001b[1;33m**\u001b[0m\u001b[0mself\u001b[0m\u001b[1;33m.\u001b[0m\u001b[0moptions\u001b[0m\u001b[1;33m)\u001b[0m\u001b[1;33m\u001b[0m\u001b[1;33m\u001b[0m\u001b[0m\n\u001b[0m\u001b[0;32m   1123\u001b[0m         \u001b[1;32melse\u001b[0m\u001b[1;33m:\u001b[0m\u001b[1;33m\u001b[0m\u001b[1;33m\u001b[0m\u001b[0m\n\u001b[0;32m   1124\u001b[0m             \u001b[1;32mif\u001b[0m \u001b[0mengine\u001b[0m \u001b[1;33m==\u001b[0m \u001b[1;34m'python'\u001b[0m\u001b[1;33m:\u001b[0m\u001b[1;33m\u001b[0m\u001b[1;33m\u001b[0m\u001b[0m\n",
      "\u001b[1;32m~\\.conda\\envs\\py3.6.7\\lib\\site-packages\\pandas\\io\\parsers.py\u001b[0m in \u001b[0;36m__init__\u001b[1;34m(self, src, **kwds)\u001b[0m\n\u001b[0;32m   1851\u001b[0m         \u001b[0mkwds\u001b[0m\u001b[1;33m[\u001b[0m\u001b[1;34m'usecols'\u001b[0m\u001b[1;33m]\u001b[0m \u001b[1;33m=\u001b[0m \u001b[0mself\u001b[0m\u001b[1;33m.\u001b[0m\u001b[0musecols\u001b[0m\u001b[1;33m\u001b[0m\u001b[1;33m\u001b[0m\u001b[0m\n\u001b[0;32m   1852\u001b[0m \u001b[1;33m\u001b[0m\u001b[0m\n\u001b[1;32m-> 1853\u001b[1;33m         \u001b[0mself\u001b[0m\u001b[1;33m.\u001b[0m\u001b[0m_reader\u001b[0m \u001b[1;33m=\u001b[0m \u001b[0mparsers\u001b[0m\u001b[1;33m.\u001b[0m\u001b[0mTextReader\u001b[0m\u001b[1;33m(\u001b[0m\u001b[0msrc\u001b[0m\u001b[1;33m,\u001b[0m \u001b[1;33m**\u001b[0m\u001b[0mkwds\u001b[0m\u001b[1;33m)\u001b[0m\u001b[1;33m\u001b[0m\u001b[1;33m\u001b[0m\u001b[0m\n\u001b[0m\u001b[0;32m   1854\u001b[0m         \u001b[0mself\u001b[0m\u001b[1;33m.\u001b[0m\u001b[0munnamed_cols\u001b[0m \u001b[1;33m=\u001b[0m \u001b[0mself\u001b[0m\u001b[1;33m.\u001b[0m\u001b[0m_reader\u001b[0m\u001b[1;33m.\u001b[0m\u001b[0munnamed_cols\u001b[0m\u001b[1;33m\u001b[0m\u001b[1;33m\u001b[0m\u001b[0m\n\u001b[0;32m   1855\u001b[0m \u001b[1;33m\u001b[0m\u001b[0m\n",
      "\u001b[1;32mpandas\\_libs\\parsers.pyx\u001b[0m in \u001b[0;36mpandas._libs.parsers.TextReader.__cinit__\u001b[1;34m()\u001b[0m\n",
      "\u001b[1;32mpandas\\_libs\\parsers.pyx\u001b[0m in \u001b[0;36mpandas._libs.parsers.TextReader._setup_parser_source\u001b[1;34m()\u001b[0m\n",
      "\u001b[1;31mFileNotFoundError\u001b[0m: [Errno 2] File b'./data/RNA_expression_curated.csv' does not exist: b'./data/RNA_expression_curated.csv'"
     ]
    }
   ],
   "source": [
    "import pandas as pd\n",
    "\n",
    "gene_expression = pd.read_csv(\"./data/RNA_expression_curated.csv\", sep=',', header=0, index_col=0)\n",
    "drug_response = pd.read_csv(\"./data/drug_response_curated.csv\", sep=',', header=0, index_col=0)"
   ]
  },
  {
   "cell_type": "markdown",
   "metadata": {},
   "source": [
    "You can use the `DataFrame`s directly as inputs to the the `sklearn` models. The advantage over using `numpy` arrays is that the variable are annotated, i.e. each input and output has a name."
   ]
  },
  {
   "cell_type": "markdown",
   "metadata": {},
   "source": [
    "## Tools\n",
    "The `scikit-learn` library provides the required tools for linear regression/classification and shrinkage, as well as for logistic regression."
   ]
  },
  {
   "cell_type": "code",
   "execution_count": 19,
   "metadata": {},
   "outputs": [],
   "source": [
    "from sklearn.linear_model import LinearRegression\n",
    "from sklearn.linear_model import Ridge\n",
    "from sklearn.linear_model import Lasso\n",
    "from sklearn.linear_model import LogisticRegression"
   ]
  },
  {
   "cell_type": "markdown",
   "metadata": {},
   "source": [
    "Note that the notation used for the hyperparameters in the `scikit-learn` library is different from the one used in the lecture. More specifically, in the lecture $\\alpha$ is the tunable parameter to select the compromise between Ridge and Lasso. Whereas, `scikit-learn` library refers to `alpha` as the tunable parameter $\\lambda$. Please check the documentation for more details."
   ]
  },
  {
   "cell_type": "markdown",
   "metadata": {},
   "source": [
    "# Exercises\n",
    "\n",
    "## Selection of the hyperparameter\n",
    "\n",
    "Implement cross-validation (using `sklearn.grid_search.GridSearchCV`) to select the `alpha` hyperparameter of `sklearn.linear_model.Lasso`. "
   ]
  },
  {
   "cell_type": "code",
   "execution_count": 11,
   "metadata": {},
   "outputs": [
    {
     "name": "stdout",
     "output_type": "stream",
     "text": [
      "Pipeline(memory=None,\n",
      "         steps=[('scaler',\n",
      "                 StandardScaler(copy=True, with_mean=True, with_std=True)),\n",
      "                ('lasso',\n",
      "                 Lasso(alpha=0.30538555088334185, copy_X=True,\n",
      "                       fit_intercept=True, max_iter=1000, normalize=False,\n",
      "                       positive=False, precompute=False, random_state=None,\n",
      "                       selection='cyclic', tol=0.0001, warm_start=False))],\n",
      "         verbose=False)\n",
      "{'lasso__alpha': 0.30538555088334185}\n",
      "{'mean_fit_time': array([0.00631603, 0.00598351, 0.00598343, 0.0458769 , 0.08045109,\n",
      "       0.08011858, 0.0811162 , 0.07978606, 0.07945402, 0.07978646,\n",
      "       0.05186097, 0.03557102, 0.03191423, 0.0315814 , 0.03158156,\n",
      "       0.03124905, 0.03124936, 0.03124921, 0.03158164, 0.03091677,\n",
      "       0.03091741, 0.03058418, 0.03025182, 0.0302519 , 0.03025174,\n",
      "       0.02991947, 0.02958671, 0.02958687, 0.02991947, 0.02892248,\n",
      "       0.02858933, 0.028922  , 0.02858973, 0.0275925 , 0.0275925 ,\n",
      "       0.02725983, 0.02692731, 0.02659488, 0.02626276, 0.02659543,\n",
      "       0.0262626 , 0.02559749, 0.02559765, 0.02493262, 0.02460003,\n",
      "       0.02460043, 0.02460035, 0.02393524, 0.02426807, 0.0236028 ,\n",
      "       0.02327037, 0.02360288, 0.02327069, 0.02360304, 0.02991939,\n",
      "       0.03457379, 0.03390853, 0.02859004, 0.02426815, 0.02227346,\n",
      "       0.01695426, 0.01628987, 0.01363015, 0.00997392, 0.00897566,\n",
      "       0.00731349, 0.00631603, 0.00565124, 0.00565116, 0.0049866 ,\n",
      "       0.00498684, 0.00498637, 0.00465385, 0.00432158, 0.00465401,\n",
      "       0.00398914, 0.00465377, 0.00432173, 0.00432173, 0.00398938,\n",
      "       0.00398946, 0.00398946, 0.00398938, 0.00398946, 0.0039889 ,\n",
      "       0.00398906, 0.0039889 , 0.0039893 , 0.00398922, 0.00398906,\n",
      "       0.00398898, 0.00432165, 0.00398922, 0.00398946, 0.00398922,\n",
      "       0.00398914, 0.00398922, 0.0039893 , 0.0039893 , 0.0039893 ]), 'std_fit_time': array([4.70134046e-04, 1.12391596e-07, 2.97360213e-07, 2.96192718e-02,\n",
      "       1.24370912e-03, 1.69503008e-03, 1.69501448e-03, 1.62888412e-03,\n",
      "       9.40155701e-04, 1.41045834e-03, 1.84979619e-02, 3.29093832e-03,\n",
      "       8.14490722e-04, 1.24413389e-03, 1.24398522e-03, 9.40211902e-04,\n",
      "       1.24398522e-03, 9.40155781e-04, 1.24368786e-03, 1.41045834e-03,\n",
      "       1.41090793e-03, 1.24377289e-03, 9.40436685e-04, 9.40324293e-04,\n",
      "       1.24407017e-03, 8.14101394e-04, 4.69965469e-04, 1.24402770e-03,\n",
      "       1.62878678e-03, 8.14198769e-04, 4.70077860e-04, 8.14101580e-04,\n",
      "       4.70021816e-04, 4.69909303e-04, 9.40661589e-04, 4.70190252e-04,\n",
      "       1.12391596e-07, 4.70021655e-04, 4.70021695e-04, 9.40324414e-04,\n",
      "       4.69965469e-04, 4.70302644e-04, 1.24390027e-03, 8.14490722e-04,\n",
      "       4.70190252e-04, 4.70302644e-04, 4.70077941e-04, 1.12391596e-07,\n",
      "       4.70415116e-04, 4.70246438e-04, 4.70190252e-04, 9.40268092e-04,\n",
      "       4.70302644e-04, 1.69535738e-03, 4.88567902e-03, 1.88059238e-03,\n",
      "       3.73180695e-03, 1.88098576e-03, 2.04943441e-03, 4.70583653e-04,\n",
      "       8.14393390e-04, 2.35055785e-03, 2.85975075e-03, 8.14393437e-04,\n",
      "       8.13517414e-04, 4.70021655e-04, 1.24379406e-03, 4.70190252e-04,\n",
      "       4.69796871e-04, 2.97360213e-07, 4.05233662e-07, 5.94720425e-07,\n",
      "       4.70471261e-04, 4.70190252e-04, 4.70246478e-04, 1.12391596e-07,\n",
      "       4.69909303e-04, 4.69572088e-04, 4.70246599e-04, 2.97360213e-07,\n",
      "       1.94667955e-07, 1.94667955e-07, 2.24783192e-07, 0.00000000e+00,\n",
      "       2.24783192e-07, 1.12391596e-07, 2.97360213e-07, 2.97360213e-07,\n",
      "       0.00000000e+00, 5.61957980e-07, 1.94667955e-07, 4.70134086e-04,\n",
      "       0.00000000e+00, 1.94667955e-07, 1.94667955e-07, 1.12391596e-07,\n",
      "       1.94667955e-07, 1.12391596e-07, 1.12391596e-07, 1.12391596e-07]), 'mean_score_time': array([0.00199501, 0.00199509, 0.0023276 , 0.00265972, 0.0026598 ,\n",
      "       0.0026598 , 0.00299223, 0.00265996, 0.00232752, 0.00299199,\n",
      "       0.0023276 , 0.00266004, 0.0023276 , 0.0023276 , 0.00232776,\n",
      "       0.00199533, 0.00232736, 0.0023276 , 0.00199548, 0.0026602 ,\n",
      "       0.0023272 , 0.00199509, 0.00266012, 0.00232768, 0.00266012,\n",
      "       0.00266004, 0.00266027, 0.00232768, 0.00199517, 0.0023272 ,\n",
      "       0.00199548, 0.00232768, 0.00199517, 0.00199493, 0.00232728,\n",
      "       0.00266027, 0.00232768, 0.00232784, 0.00232704, 0.00232736,\n",
      "       0.00199501, 0.0026602 , 0.00266004, 0.00232752, 0.0019954 ,\n",
      "       0.00232744, 0.00199501, 0.0023276 , 0.00199485, 0.00232776,\n",
      "       0.00232768, 0.00232768, 0.00199517, 0.00199493, 0.0023276 ,\n",
      "       0.00232744, 0.00232776, 0.00199461, 0.00199493, 0.00199493,\n",
      "       0.00265996, 0.00232728, 0.00265956, 0.00265892, 0.00265972,\n",
      "       0.00199485, 0.00232728, 0.00232736, 0.00199485, 0.00199469,\n",
      "       0.00199477, 0.00199493, 0.00199477, 0.00199485, 0.0023272 ,\n",
      "       0.00199461, 0.00232752, 0.00232728, 0.00232689, 0.00299199,\n",
      "       0.00299199, 0.00232697, 0.0023272 , 0.00199485, 0.00199485,\n",
      "       0.00199469, 0.00199493, 0.00199445, 0.00199485, 0.00199453,\n",
      "       0.00232744, 0.00265964, 0.00199485, 0.00199453, 0.00199477,\n",
      "       0.00199469, 0.00199477, 0.00232712, 0.00265956, 0.00199437]), 'std_score_time': array([1.12391596e-07, 0.00000000e+00, 4.70077941e-04, 4.70303127e-04,\n",
      "       4.70358870e-04, 9.40043309e-04, 2.97360213e-07, 4.70471221e-04,\n",
      "       4.70134046e-04, 1.12391596e-07, 4.70077860e-04, 4.70021695e-04,\n",
      "       4.70246478e-04, 4.70246478e-04, 4.70134086e-04, 0.00000000e+00,\n",
      "       4.70077860e-04, 4.70246438e-04, 1.12391596e-07, 4.69965469e-04,\n",
      "       4.69515983e-04, 3.37174788e-07, 4.70077860e-04, 4.70021695e-04,\n",
      "       4.70415035e-04, 4.70190252e-04, 4.70358870e-04, 4.70021695e-04,\n",
      "       2.97360213e-07, 4.70358870e-04, 2.24783192e-07, 4.70527668e-04,\n",
      "       2.97360213e-07, 2.24783192e-07, 4.70471261e-04, 4.70021655e-04,\n",
      "       4.70190252e-04, 4.70077860e-04, 4.69628294e-04, 4.70415035e-04,\n",
      "       1.12391596e-07, 4.70302644e-04, 4.70358829e-04, 4.70471221e-04,\n",
      "       2.24783192e-07, 4.70358870e-04, 4.05233662e-07, 4.70246478e-04,\n",
      "       1.94667955e-07, 4.70302644e-04, 4.70021655e-04, 4.70190252e-04,\n",
      "       2.24783192e-07, 1.12391596e-07, 4.69909303e-04, 4.70021655e-04,\n",
      "       4.70134086e-04, 6.74349576e-07, 2.97360213e-07, 4.49566384e-07,\n",
      "       4.69796871e-04, 4.70134086e-04, 4.69853158e-04, 4.70246599e-04,\n",
      "       4.70639899e-04, 1.94667955e-07, 4.69965469e-04, 4.70077860e-04,\n",
      "       3.89335909e-07, 1.12391596e-07, 1.12391596e-07, 4.49566384e-07,\n",
      "       2.97360213e-07, 0.00000000e+00, 4.70190252e-04, 1.94667955e-07,\n",
      "       4.69796912e-04, 4.70134409e-04, 4.69909303e-04, 4.49566384e-07,\n",
      "       1.12391596e-07, 4.70021695e-04, 4.70358870e-04, 1.94667955e-07,\n",
      "       0.00000000e+00, 1.12391596e-07, 4.89903609e-07, 1.12391596e-07,\n",
      "       0.00000000e+00, 2.24783192e-07, 4.70358829e-04, 4.70246438e-04,\n",
      "       0.00000000e+00, 1.12391596e-07, 1.12391596e-07, 2.24783192e-07,\n",
      "       1.12391596e-07, 4.70077860e-04, 4.70527427e-04, 1.94667955e-07]), 'param_lasso__alpha': masked_array(data=[1e-05, 1.1497569953977357e-05, 1.3219411484660286e-05,\n",
      "                   1.5199110829529332e-05, 1.747528400007683e-05,\n",
      "                   2.0092330025650458e-05, 2.310129700083158e-05,\n",
      "                   2.656087782946684e-05, 3.053855508833412e-05,\n",
      "                   3.511191734215127e-05, 4.037017258596558e-05,\n",
      "                   4.641588833612782e-05, 5.3366992312063123e-05,\n",
      "                   6.135907273413175e-05, 7.054802310718646e-05,\n",
      "                   8.111308307896872e-05, 9.326033468832199e-05,\n",
      "                   0.00010722672220103231, 0.0001232846739442066,\n",
      "                   0.00014174741629268049, 0.00016297508346206434,\n",
      "                   0.0001873817422860383, 0.00021544346900318845,\n",
      "                   0.0002477076355991711, 0.0002848035868435802,\n",
      "                   0.00032745491628777284, 0.00037649358067924675,\n",
      "                   0.00043287612810830614, 0.0004977023564332114,\n",
      "                   0.0005722367659350221, 0.0006579332246575682,\n",
      "                   0.000756463327554629, 0.0008697490026177834, 0.001,\n",
      "                   0.0011497569953977356, 0.0013219411484660286,\n",
      "                   0.0015199110829529332, 0.0017475284000076847,\n",
      "                   0.002009233002565048, 0.0023101297000831605,\n",
      "                   0.0026560877829466868, 0.0030538555088334154,\n",
      "                   0.003511191734215131, 0.004037017258596553,\n",
      "                   0.004641588833612782, 0.005336699231206312,\n",
      "                   0.006135907273413176, 0.007054802310718645,\n",
      "                   0.008111308307896872, 0.0093260334688322,\n",
      "                   0.010722672220103232, 0.012328467394420659,\n",
      "                   0.014174741629268049, 0.01629750834620645,\n",
      "                   0.018738174228603847, 0.021544346900318846,\n",
      "                   0.024770763559917114, 0.02848035868435802,\n",
      "                   0.03274549162877728, 0.037649358067924674,\n",
      "                   0.043287612810830614, 0.049770235643321135,\n",
      "                   0.0572236765935022, 0.06579332246575682,\n",
      "                   0.07564633275546291, 0.08697490026177834, 0.1,\n",
      "                   0.11497569953977356, 0.13219411484660287,\n",
      "                   0.1519911082952933, 0.1747528400007683,\n",
      "                   0.2009233002565046, 0.2310129700083158,\n",
      "                   0.26560877829466895, 0.30538555088334185,\n",
      "                   0.35111917342151344, 0.4037017258596558,\n",
      "                   0.4641588833612782, 0.5336699231206312,\n",
      "                   0.6135907273413176, 0.7054802310718645,\n",
      "                   0.8111308307896873, 0.9326033468832199,\n",
      "                   1.072267222010323, 1.232846739442066,\n",
      "                   1.4174741629268048, 1.6297508346206435,\n",
      "                   1.873817422860383, 2.1544346900318865,\n",
      "                   2.4770763559917137, 2.848035868435805,\n",
      "                   3.2745491628777317, 3.7649358067924714,\n",
      "                   4.328761281083062, 4.9770235643321135,\n",
      "                   5.72236765935022, 6.5793322465756825, 7.56463327554629,\n",
      "                   8.697490026177835, 10.0],\n",
      "             mask=[False, False, False, False, False, False, False, False,\n",
      "                   False, False, False, False, False, False, False, False,\n",
      "                   False, False, False, False, False, False, False, False,\n",
      "                   False, False, False, False, False, False, False, False,\n",
      "                   False, False, False, False, False, False, False, False,\n",
      "                   False, False, False, False, False, False, False, False,\n",
      "                   False, False, False, False, False, False, False, False,\n",
      "                   False, False, False, False, False, False, False, False,\n",
      "                   False, False, False, False, False, False, False, False,\n",
      "                   False, False, False, False, False, False, False, False,\n",
      "                   False, False, False, False, False, False, False, False,\n",
      "                   False, False, False, False, False, False, False, False,\n",
      "                   False, False, False, False],\n",
      "       fill_value='?',\n",
      "            dtype=object), 'params': [{'lasso__alpha': 1e-05}, {'lasso__alpha': 1.1497569953977357e-05}, {'lasso__alpha': 1.3219411484660286e-05}, {'lasso__alpha': 1.5199110829529332e-05}, {'lasso__alpha': 1.747528400007683e-05}, {'lasso__alpha': 2.0092330025650458e-05}, {'lasso__alpha': 2.310129700083158e-05}, {'lasso__alpha': 2.656087782946684e-05}, {'lasso__alpha': 3.053855508833412e-05}, {'lasso__alpha': 3.511191734215127e-05}, {'lasso__alpha': 4.037017258596558e-05}, {'lasso__alpha': 4.641588833612782e-05}, {'lasso__alpha': 5.3366992312063123e-05}, {'lasso__alpha': 6.135907273413175e-05}, {'lasso__alpha': 7.054802310718646e-05}, {'lasso__alpha': 8.111308307896872e-05}, {'lasso__alpha': 9.326033468832199e-05}, {'lasso__alpha': 0.00010722672220103231}, {'lasso__alpha': 0.0001232846739442066}, {'lasso__alpha': 0.00014174741629268049}, {'lasso__alpha': 0.00016297508346206434}, {'lasso__alpha': 0.0001873817422860383}, {'lasso__alpha': 0.00021544346900318845}, {'lasso__alpha': 0.0002477076355991711}, {'lasso__alpha': 0.0002848035868435802}, {'lasso__alpha': 0.00032745491628777284}, {'lasso__alpha': 0.00037649358067924675}, {'lasso__alpha': 0.00043287612810830614}, {'lasso__alpha': 0.0004977023564332114}, {'lasso__alpha': 0.0005722367659350221}, {'lasso__alpha': 0.0006579332246575682}, {'lasso__alpha': 0.000756463327554629}, {'lasso__alpha': 0.0008697490026177834}, {'lasso__alpha': 0.001}, {'lasso__alpha': 0.0011497569953977356}, {'lasso__alpha': 0.0013219411484660286}, {'lasso__alpha': 0.0015199110829529332}, {'lasso__alpha': 0.0017475284000076847}, {'lasso__alpha': 0.002009233002565048}, {'lasso__alpha': 0.0023101297000831605}, {'lasso__alpha': 0.0026560877829466868}, {'lasso__alpha': 0.0030538555088334154}, {'lasso__alpha': 0.003511191734215131}, {'lasso__alpha': 0.004037017258596553}, {'lasso__alpha': 0.004641588833612782}, {'lasso__alpha': 0.005336699231206312}, {'lasso__alpha': 0.006135907273413176}, {'lasso__alpha': 0.007054802310718645}, {'lasso__alpha': 0.008111308307896872}, {'lasso__alpha': 0.0093260334688322}, {'lasso__alpha': 0.010722672220103232}, {'lasso__alpha': 0.012328467394420659}, {'lasso__alpha': 0.014174741629268049}, {'lasso__alpha': 0.01629750834620645}, {'lasso__alpha': 0.018738174228603847}, {'lasso__alpha': 0.021544346900318846}, {'lasso__alpha': 0.024770763559917114}, {'lasso__alpha': 0.02848035868435802}, {'lasso__alpha': 0.03274549162877728}, {'lasso__alpha': 0.037649358067924674}, {'lasso__alpha': 0.043287612810830614}, {'lasso__alpha': 0.049770235643321135}, {'lasso__alpha': 0.0572236765935022}, {'lasso__alpha': 0.06579332246575682}, {'lasso__alpha': 0.07564633275546291}, {'lasso__alpha': 0.08697490026177834}, {'lasso__alpha': 0.1}, {'lasso__alpha': 0.11497569953977356}, {'lasso__alpha': 0.13219411484660287}, {'lasso__alpha': 0.1519911082952933}, {'lasso__alpha': 0.1747528400007683}, {'lasso__alpha': 0.2009233002565046}, {'lasso__alpha': 0.2310129700083158}, {'lasso__alpha': 0.26560877829466895}, {'lasso__alpha': 0.30538555088334185}, {'lasso__alpha': 0.35111917342151344}, {'lasso__alpha': 0.4037017258596558}, {'lasso__alpha': 0.4641588833612782}, {'lasso__alpha': 0.5336699231206312}, {'lasso__alpha': 0.6135907273413176}, {'lasso__alpha': 0.7054802310718645}, {'lasso__alpha': 0.8111308307896873}, {'lasso__alpha': 0.9326033468832199}, {'lasso__alpha': 1.072267222010323}, {'lasso__alpha': 1.232846739442066}, {'lasso__alpha': 1.4174741629268048}, {'lasso__alpha': 1.6297508346206435}, {'lasso__alpha': 1.873817422860383}, {'lasso__alpha': 2.1544346900318865}, {'lasso__alpha': 2.4770763559917137}, {'lasso__alpha': 2.848035868435805}, {'lasso__alpha': 3.2745491628777317}, {'lasso__alpha': 3.7649358067924714}, {'lasso__alpha': 4.328761281083062}, {'lasso__alpha': 4.9770235643321135}, {'lasso__alpha': 5.72236765935022}, {'lasso__alpha': 6.5793322465756825}, {'lasso__alpha': 7.56463327554629}, {'lasso__alpha': 8.697490026177835}, {'lasso__alpha': 10.0}], 'split0_test_score': array([-0.53268761, -0.53257047, -0.53233697, -0.51518113, -0.51149134,\n",
      "       -0.50801937, -0.50396465, -0.49957593, -0.49493028, -0.49089046,\n",
      "       -0.48685459, -0.48216919, -0.4765236 , -0.46971293, -0.46305955,\n",
      "       -0.45539987, -0.44850523, -0.44029738, -0.43173109, -0.41542798,\n",
      "       -0.39758331, -0.38597278, -0.37237458, -0.36421734, -0.35972409,\n",
      "       -0.34963966, -0.33963277, -0.329264  , -0.33766374, -0.34857858,\n",
      "       -0.34930438, -0.36321957, -0.36351405, -0.35755539, -0.34535804,\n",
      "       -0.346363  , -0.35574652, -0.38766067, -0.41850628, -0.45475207,\n",
      "       -0.48858788, -0.49403224, -0.48481552, -0.45273735, -0.42921171,\n",
      "       -0.41713578, -0.38149505, -0.32972376, -0.28029731, -0.24556872,\n",
      "       -0.21698905, -0.16382196, -0.11924438, -0.10591029, -0.08278172,\n",
      "       -0.06990587, -0.04856431, -0.00259934,  0.01989755,  0.02361755,\n",
      "        0.0481484 ,  0.0891234 ,  0.12772597,  0.17242988,  0.21948858,\n",
      "        0.26871043,  0.32109566,  0.35940503,  0.39155592,  0.41092007,\n",
      "        0.42797186,  0.43907767,  0.44920237,  0.43392355,  0.41857987,\n",
      "        0.40828138,  0.39310826,  0.38175656,  0.36569113,  0.34209697,\n",
      "        0.31044489,  0.26907892,  0.21624889,  0.15200095,  0.07782004,\n",
      "       -0.00347707, -0.00347707, -0.00347707, -0.00347707, -0.00347707,\n",
      "       -0.00347707, -0.00347707, -0.00347707, -0.00347707, -0.00347707,\n",
      "       -0.00347707, -0.00347707, -0.00347707, -0.00347707, -0.00347707]), 'split1_test_score': array([-0.92852956, -0.92830464, -0.92804709, -0.92800523, -0.89855607,\n",
      "       -0.89337448, -0.88733859, -0.88087947, -0.87344414, -0.86579088,\n",
      "       -0.8592396 , -0.85127676, -0.84238233, -0.83631292, -0.83517253,\n",
      "       -0.83744887, -0.84261553, -0.85021118, -0.86123441, -0.88073354,\n",
      "       -0.90842008, -0.94483918, -0.98922437, -1.03266222, -1.0822092 ,\n",
      "       -1.14652333, -1.19879868, -1.2717681 , -1.34043068, -1.40459528,\n",
      "       -1.45700794, -1.45716345, -1.41302636, -1.35795924, -1.31343785,\n",
      "       -1.27334273, -1.24419566, -1.23280701, -1.23787083, -1.20200415,\n",
      "       -1.17727476, -1.16822796, -1.16324952, -1.14604276, -1.14254142,\n",
      "       -1.14408447, -1.13722738, -1.09381746, -1.04139422, -0.99220272,\n",
      "       -0.96800876, -0.97231246, -0.94302586, -0.85608571, -0.75798189,\n",
      "       -0.68059053, -0.55934346, -0.43618246, -0.33769168, -0.22163608,\n",
      "       -0.13200276, -0.03334134,  0.06509547,  0.14539554,  0.19706941,\n",
      "        0.20586985,  0.20333431,  0.22241302,  0.24182418,  0.244009  ,\n",
      "        0.23704749,  0.23831948,  0.24409929,  0.25782219,  0.2572642 ,\n",
      "        0.24737171,  0.23451609,  0.22269167,  0.21039353,  0.19567548,\n",
      "        0.17911003,  0.16066586,  0.1478444 ,  0.12806586,  0.09866677,\n",
      "        0.05606271, -0.00455765, -0.04543858, -0.04543858, -0.04543858,\n",
      "       -0.04543858, -0.04543858, -0.04543858, -0.04543858, -0.04543858,\n",
      "       -0.04543858, -0.04543858, -0.04543858, -0.04543858, -0.04543858]), 'split2_test_score': array([-0.37598818, -0.37576564, -0.37551025, -0.3570547 , -0.34247145,\n",
      "       -0.33706815, -0.33106094, -0.32429403, -0.31615584, -0.30690061,\n",
      "       -0.2980738 , -0.28872031, -0.27760658, -0.26660229, -0.25466119,\n",
      "       -0.24256888, -0.23033736, -0.21637095, -0.20281033, -0.1865488 ,\n",
      "       -0.17407242, -0.16549613, -0.15511716, -0.15228039, -0.15249988,\n",
      "       -0.1624775 , -0.18986327, -0.22053192, -0.24870155, -0.27440969,\n",
      "       -0.29081344, -0.31513029, -0.33416233, -0.34947328, -0.34969214,\n",
      "       -0.34693095, -0.33577783, -0.3362671 , -0.35888311, -0.40315062,\n",
      "       -0.41503018, -0.38300901, -0.34976174, -0.33119606, -0.33052179,\n",
      "       -0.33004588, -0.33001425, -0.33000758, -0.32575167, -0.32007169,\n",
      "       -0.31210313, -0.30281861, -0.30380119, -0.29541049, -0.277159  ,\n",
      "       -0.26073551, -0.23360955, -0.20886114, -0.18697132, -0.15581053,\n",
      "       -0.11249754, -0.07506594, -0.04438428, -0.02474124, -0.02004637,\n",
      "       -0.01828406,  0.00641504,  0.03699877,  0.06466186,  0.08599777,\n",
      "        0.108194  ,  0.13873524,  0.16596058,  0.18637947,  0.20855329,\n",
      "        0.22185019,  0.23070816,  0.23297675,  0.22935481,  0.22054888,\n",
      "        0.20467249,  0.17882258,  0.13905575,  0.09806367,  0.05072832,\n",
      "       -0.01257953, -0.05278089, -0.05278089, -0.05278089, -0.05278089,\n",
      "       -0.05278089, -0.05278089, -0.05278089, -0.05278089, -0.05278089,\n",
      "       -0.05278089, -0.05278089, -0.05278089, -0.05278089, -0.05278089]), 'mean_test_score': array([-0.61186317, -0.61167546, -0.61142674, -0.59950671, -0.58368186,\n",
      "       -0.57900444, -0.57364736, -0.56778579, -0.56106022, -0.55409734,\n",
      "       -0.54764247, -0.54032646, -0.53179484, -0.52384116, -0.51726236,\n",
      "       -0.51142475, -0.50675644, -0.50187428, -0.49814018, -0.49370428,\n",
      "       -0.49271147, -0.49800722, -0.50467205, -0.51535848, -0.53031722,\n",
      "       -0.55150692, -0.5745005 , -0.60531014, -0.6402072 , -0.67364982,\n",
      "       -0.69667883, -0.70948224, -0.70126992, -0.68609434, -0.66730589,\n",
      "       -0.65345649, -0.64328396, -0.6504572 , -0.67004228, -0.68506883,\n",
      "       -0.69224551, -0.68048799, -0.66471843, -0.64203763, -0.63270732,\n",
      "       -0.62898092, -0.6146594 , -0.5827947 , -0.54733118, -0.51743163,\n",
      "       -0.49712794, -0.47751703, -0.45308611, -0.41701911, -0.37068236,\n",
      "       -0.33527209, -0.2789386 , -0.21443989, -0.16698385, -0.11698653,\n",
      "       -0.06468308, -0.00578234,  0.05000775,  0.0981997 ,  0.13276052,\n",
      "        0.15288666,  0.1779223 ,  0.20730696,  0.23375414,  0.24808334,\n",
      "        0.25888802,  0.27317273,  0.28752062,  0.29366256,  0.29563547,\n",
      "        0.29328339,  0.28683379,  0.279835  ,  0.26913665,  0.25337731,\n",
      "        0.23194317,  0.20330324,  0.16804427,  0.12621888,  0.07575244,\n",
      "        0.01322177, -0.02015839, -0.03369329, -0.03369329, -0.03369329,\n",
      "       -0.03369329, -0.03369329, -0.03369329, -0.03369329, -0.03369329,\n",
      "       -0.03369329, -0.03369329, -0.03369329, -0.03369329, -0.03369329]), 'std_test_score': array([0.23181503, 0.23180179, 0.23179829, 0.23998252, 0.23205395,\n",
      "       0.23195216, 0.23173919, 0.23163794, 0.23160996, 0.23183246,\n",
      "       0.23241165, 0.23262464, 0.23315524, 0.23499863, 0.2393429 ,\n",
      "       0.24532279, 0.25256646, 0.26161236, 0.27205808, 0.2879216 ,\n",
      "       0.30641066, 0.32703092, 0.35228146, 0.37411333, 0.39740973,\n",
      "       0.42554855, 0.44345959, 0.47097425, 0.4939671 , 0.51513307,\n",
      "       0.53544612, 0.52638096, 0.50088332, 0.47268629, 0.45457439,\n",
      "       0.43610644, 0.42283613, 0.41023716, 0.40022572, 0.3642893 ,\n",
      "       0.34255405, 0.34612824, 0.3550511 , 0.35804715, 0.36094491,\n",
      "       0.36413463, 0.36824261, 0.35951806, 0.34808304, 0.33540053,\n",
      "       0.33355247, 0.35271141, 0.3528507 , 0.31846627, 0.28383199,\n",
      "       0.25516539, 0.21128651, 0.17734271, 0.14689869, 0.10394119,\n",
      "       0.08098369, 0.06988316, 0.07117467, 0.08719581, 0.10789388,\n",
      "       0.12313425, 0.1299141 , 0.13226488, 0.13379288, 0.13289699,\n",
      "       0.1316621 , 0.12523879, 0.11978302, 0.10431802, 0.09002603,\n",
      "       0.08279515, 0.07592614, 0.07292128, 0.06939763, 0.06417417,\n",
      "       0.05702906, 0.04755986, 0.03461705, 0.02209409, 0.01956039,\n",
      "       0.0303687 , 0.02295504, 0.02178878, 0.02178878, 0.02178878,\n",
      "       0.02178878, 0.02178878, 0.02178878, 0.02178878, 0.02178878,\n",
      "       0.02178878, 0.02178878, 0.02178878, 0.02178878, 0.02178878]), 'rank_test_score': array([ 81,  80,  79,  77,  76,  74,  72,  71,  70,  69,  67,  65,  64,\n",
      "        62,  60,  58,  57,  55,  54,  51,  50,  53,  56,  59,  63,  68,\n",
      "        73,  78,  85,  93,  98, 100,  99,  96,  91,  89,  87,  88,  92,\n",
      "        95,  97,  94,  90,  86,  84,  83,  82,  75,  66,  61,  52,  49,\n",
      "        48,  47,  46,  45,  44,  43,  42,  41,  40,  25,  23,  21,  19,\n",
      "        18,  16,  14,  12,  11,   9,   7,   4,   2,   1,   3,   5,   6,\n",
      "         8,  10,  13,  15,  17,  20,  22,  24,  26,  27,  27,  27,  27,\n",
      "        27,  27,  27,  27,  27,  27,  27,  27,  27])}\n",
      "4.567243557180649\n"
     ]
    }
   ],
   "source": [
    "from sklearn.pipeline import Pipeline\n",
    "from sklearn.model_selection import GridSearchCV\n",
    "from sklearn.model_selection import train_test_split\n",
    "from sklearn.linear_model import Lasso\n",
    "from sklearn.preprocessing import StandardScaler\n",
    "from sklearn.metrics import mean_squared_error\n",
    "import numpy as np\n",
    "import pandas as pd\n",
    "import warnings\n",
    "warnings.filterwarnings(\"ignore\")\n",
    "\n",
    "#Import the dataset\n",
    "gene_expression = pd.read_csv(\"./data/RNA_expression_curated.csv\", sep=',', header=0, index_col=0)\n",
    "drug_response = pd.read_csv(\"./data/drug_response_curated.csv\", sep=',', header=0, index_col=0)\n",
    "\n",
    "#X_train, X_test, y_train, y_test = train_test_split(gene_expression, drug_response, stratify=drug_response, random_state=40)\n",
    "\n",
    "#create the model pipeline\n",
    "model = Pipeline([\n",
    "                    (\"scaler\",StandardScaler()),\n",
    "                    (\"lasso\", Lasso(alpha=1.0, max_iter=1000))\n",
    "                ])\n",
    "\n",
    "#perform a grid search for the alpha parameter\n",
    "model = GridSearchCV(model, {\"lasso__alpha\": np.logspace(-5,1,num=100)})\n",
    "#print(model.get_params().keys())\n",
    "#print(model.get_params())\n",
    "\n",
    "#Fit the model\n",
    "model.fit(gene_expression,drug_response)\n",
    "\n",
    "\n",
    "\n",
    "#Do an evaluation of the model\n",
    "#print(model.best_estimator_)\n",
    "print(model.best_params_)\n",
    "#print(model.cv_results_)\n",
    "print(mean_squared_error(drug_response,model.predict(gene_expression)))\n",
    "\n",
    "\n"
   ]
  },
  {
   "cell_type": "markdown",
   "metadata": {},
   "source": [
    "## Feature selection\n",
    "\n",
    "Look at the features selected using the hyperparameter which corresponds to the minimum cross-validation error.\n",
    "\n",
    "<p><font color='#770a0a'>Is the partition in training and validation sets playing a role in the selection of the hyperparameter? How will this affect the selection of the relevant features?</font></p>\n",
    "\n",
    "<p><font color='#770a0a'>Should the value of the intercept also be shrunk to zero with Lasso and Ridge regression? Motivate your answer.</font></p>\n",
    "\n",
    "\n",
    "## Bias-variance \n",
    "\n",
    "Show the effect of the regularization on the parameter estimates in terms of bias and variance. For this you can repeat the optimization 100 times using bootstrap and visualise the profile of the Lasso regression coefficient over a grid of the hyperparameter, optionally including the variability as error bars.\n",
    "\n",
    "<p><font color='#770a0a'>Based on the visual analysis of the plot, what are your observation on bias and variance in relation to model complexity? Motivate your answer.</font></p>\n"
   ]
  },
  {
   "cell_type": "markdown",
   "metadata": {},
   "source": [
    "Feature selection answer:\n",
    "The split of the training and validation set plays a role in the selection of the hyperparameters. First of all, if the trainingset is very large in comparison to the validation set, the hyperparameter is more likely to fit the training data well. But on the validation set it might perform worse. \n",
    "Also, especially for small dataset this plays a role. Because the validation set is more likely to differ/variate from the training set.  \n",
    "\n",
    "The features are selected based on the training data. So if the partition of training and validation is poor (and the hyperparameter is biased to training), the features might not work very well on the validation data. \n",
    "\n",
    "The value of the intercept should not be shrunken to zero with Lasso and Ridge. Because this is the starting point of linear regression, we cannot know for sure if this is correct (if w0 is zero). \n",
    "Also this is most unlikely when the linear regression is negative, because then all values would be negative.\n"
   ]
  },
  {
   "cell_type": "code",
   "execution_count": 4,
   "metadata": {},
   "outputs": [],
   "source": [
    "from sklearn.linear_model import Lasso\n",
    "from sklearn.pipeline import Pipeline\n",
    "from sklearn.preprocessing import StandardScaler\n",
    "from sklearn.metrics import mean_squared_error\n",
    "from sklearn.model_selection import train_test_split\n",
    "from random import randint\n",
    "import matplotlib.pyplot as plt\n",
    "import pandas as pd\n",
    "import numpy as np\n",
    "import warnings\n",
    "warnings.filterwarnings('ignore')\n",
    "\n",
    "gene_expression = pd.read_csv(\"./data/RNA_expression_curated.csv\", sep=',', header=0, index_col=0)\n",
    "drug_response = pd.read_csv(\"./data/drug_response_curated.csv\", sep=',', header=0, index_col=0)\n",
    "\n",
    "alphas=np.logspace(-5,1,10)\n",
    "means=np.zeros((len(alphas),1))\n",
    "stds=np.zeros((len(alphas),1))\n",
    "\n",
    "\n",
    "for idx,alpha in enumerate(alphas):\n",
    "    mses=np.zeros((len(drug_response),1))\n",
    "    for i in range(0,100):\n",
    "        ti = [randint(0, len(drug_response)-1) for p in range(0, len(drug_response))]   #select random indices\n",
    "        data_genes=gene_expression.iloc[ti]\n",
    "        data_response=drug_response.iloc[ti]\n",
    "        X_train, X_val, y_train, y_val = train_test_split(\n",
    "                data_genes, data_response,test_size=0.2)\n",
    "\n",
    "\n",
    "        model=Pipeline([\n",
    "            ('scaler',StandardScaler()),\n",
    "            ('LR',Lasso(alpha=alpha))\n",
    "        ])\n",
    "    \n",
    "        model.fit(X_train,y_train)\n",
    "        pred=model.predict(X_val)\n",
    "        mse=mean_squared_error(y_val,pred)\n",
    "        mses[i]=mse    \n",
    "    means[idx]=np.mean(mses)\n",
    "    stds[idx]=np.std(mses)\n",
    "    \n",
    "%matplotlib tk\n",
    "fig = plt.gcf()\n",
    "fig.set_size_inches(12.5, 7.5)\n",
    "plt.errorbar(x=alphas,y=means,yerr=stds,fmt='o', color='red',\n",
    "             ecolor='lightgray', elinewidth=3, capsize=5)\n",
    "plt.xlabel(r'log($\\alpha$) (-)')\n",
    "plt.ylabel('Mean-Squared Error (-)')\n",
    "plt.title(r'Regularization parameter $\\alpha$ versus MSE')\n",
    "plt.show()\n",
    "    "
   ]
  },
  {
   "cell_type": "code",
   "execution_count": null,
   "metadata": {},
   "outputs": [],
   "source": []
  },
  {
   "cell_type": "markdown",
   "metadata": {},
   "source": [
    "## Logistic regression\n",
    "\n",
    "<p><font color='#770a0a'>Write the expression of the objective function for the penalized logistic regression with $L_1$ and $L_2$ regularisation (as in Elastic net).</font></p>"
   ]
  },
  {
   "cell_type": "code",
   "execution_count": null,
   "metadata": {},
   "outputs": [],
   "source": []
  }
 ],
 "metadata": {
  "kernelspec": {
   "display_name": "Python 3",
   "language": "python",
   "name": "python3"
  },
  "language_info": {
   "codemirror_mode": {
    "name": "ipython",
    "version": 3
   },
   "file_extension": ".py",
   "mimetype": "text/x-python",
   "name": "python",
   "nbconvert_exporter": "python",
   "pygments_lexer": "ipython3",
   "version": "3.6.7"
  }
 },
 "nbformat": 4,
 "nbformat_minor": 2
}
